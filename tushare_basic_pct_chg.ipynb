{
 "cells": [
  {
   "cell_type": "code",
   "execution_count": 19,
   "metadata": {},
   "outputs": [
    {
     "data": {
      "text/html": [
       "<script type=\"text/javascript\">window.PlotlyConfig = {MathJaxConfig: 'local'};</script><script type=\"text/javascript\">if (window.MathJax) {MathJax.Hub.Config({SVG: {font: \"STIX-Web\"}});}</script><script>requirejs.config({paths: { 'plotly': ['https://cdn.plot.ly/plotly-latest.min']},});if(!window._Plotly) {require(['plotly'],function(plotly) {window._Plotly=plotly;});}</script>"
      ],
      "text/vnd.plotly.v1+html": [
       "<script type=\"text/javascript\">window.PlotlyConfig = {MathJaxConfig: 'local'};</script><script type=\"text/javascript\">if (window.MathJax) {MathJax.Hub.Config({SVG: {font: \"STIX-Web\"}});}</script><script>requirejs.config({paths: { 'plotly': ['https://cdn.plot.ly/plotly-latest.min']},});if(!window._Plotly) {require(['plotly'],function(plotly) {window._Plotly=plotly;});}</script>"
      ]
     },
     "metadata": {},
     "output_type": "display_data"
    }
   ],
   "source": [
    "import tushare as ts\n",
    "import plotly\n",
    "import plotly.graph_objs as go\n",
    "from collections import namedtuple\n",
    "\n",
    "ts.set_token('beb6b9371b4c0dd611ed4985441301f29466e0f69bf7ad5b24be7ca3')\n",
    "pro = ts.pro_api()\n",
    "plotly.offline.init_notebook_mode(connected=True)"
   ]
  },
  {
   "cell_type": "code",
   "execution_count": 20,
   "metadata": {},
   "outputs": [],
   "source": [
    "def date_format_transfer(date, split_simbol='-'):\n",
    "    return [\"{}{}{}{}{}\".format(a[:4], split_simbol, a[4:6], split_simbol, a[6:8]) for a in date]"
   ]
  },
  {
   "cell_type": "code",
   "execution_count": 21,
   "metadata": {},
   "outputs": [],
   "source": [
    "def get_month_daily_datum(pro, ts_code, year, month, fields):\n",
    "    start_date = \"{}{}01\".format(year, month)\n",
    "    end_date = \"{}{}31\".format(year, month)  \n",
    "    return pro.daily(ts_code=ts_code, start_date=start_date, end_date=end_date, fields=fields)"
   ]
  },
  {
   "cell_type": "code",
   "execution_count": 78,
   "metadata": {
    "scrolled": false
   },
   "outputs": [
    {
     "data": {
      "application/vnd.plotly.v1+json": {
       "config": {
        "linkText": "Export to plot.ly",
        "plotlyServerURL": "https://plot.ly",
        "showLink": true
       },
       "data": [
        {
         "line": {
          "color": "#00FF00"
         },
         "name": "overyear",
         "opacity": 0.8,
         "type": "scatter",
         "uid": "0b370be2-9140-4b42-8a12-459d0902fbba",
         "x": [
          -9,
          -8,
          -7,
          -6,
          -5,
          -4,
          -3,
          -2,
          -1,
          0,
          1,
          2,
          3,
          4,
          5,
          6,
          7,
          8,
          9,
          10
         ],
         "y": [
          4,
          1,
          0,
          5,
          5,
          9,
          14,
          16,
          35,
          26,
          36,
          25,
          13,
          12,
          6,
          7,
          2,
          3,
          0,
          4
         ]
        }
       ],
       "layout": {}
      },
      "text/html": [
       "<div id=\"a98f4836-119a-49b8-b780-8412734a04dc\" style=\"height: 525px; width: 100%;\" class=\"plotly-graph-div\"></div><script type=\"text/javascript\">require([\"plotly\"], function(Plotly) { window.PLOTLYENV=window.PLOTLYENV || {};window.PLOTLYENV.BASE_URL=\"https://plot.ly\";Plotly.newPlot(\"a98f4836-119a-49b8-b780-8412734a04dc\", [{\"line\": {\"color\": \"#00FF00\"}, \"name\": \"overyear\", \"opacity\": 0.8, \"x\": [-9, -8, -7, -6, -5, -4, -3, -2, -1, 0, 1, 2, 3, 4, 5, 6, 7, 8, 9, 10], \"y\": [4, 1, 0, 5, 5, 9, 14, 16, 35, 26, 36, 25, 13, 12, 6, 7, 2, 3, 0, 4], \"type\": \"scatter\", \"uid\": \"8c654839-a790-42c3-b687-6522c4f60023\"}], {}, {\"showLink\": true, \"linkText\": \"Export to plot.ly\", \"plotlyServerURL\": \"https://plot.ly\"})});</script><script type=\"text/javascript\">window.addEventListener(\"resize\", function(){window._Plotly.Plots.resize(document.getElementById(\"a98f4836-119a-49b8-b780-8412734a04dc\"));});</script>"
      ],
      "text/vnd.plotly.v1+html": [
       "<div id=\"a98f4836-119a-49b8-b780-8412734a04dc\" style=\"height: 525px; width: 100%;\" class=\"plotly-graph-div\"></div><script type=\"text/javascript\">require([\"plotly\"], function(Plotly) { window.PLOTLYENV=window.PLOTLYENV || {};window.PLOTLYENV.BASE_URL=\"https://plot.ly\";Plotly.newPlot(\"a98f4836-119a-49b8-b780-8412734a04dc\", [{\"line\": {\"color\": \"#00FF00\"}, \"name\": \"overyear\", \"opacity\": 0.8, \"x\": [-9, -8, -7, -6, -5, -4, -3, -2, -1, 0, 1, 2, 3, 4, 5, 6, 7, 8, 9, 10], \"y\": [4, 1, 0, 5, 5, 9, 14, 16, 35, 26, 36, 25, 13, 12, 6, 7, 2, 3, 0, 4], \"type\": \"scatter\", \"uid\": \"8c654839-a790-42c3-b687-6522c4f60023\"}], {}, {\"showLink\": true, \"linkText\": \"Export to plot.ly\", \"plotlyServerURL\": \"https://plot.ly\"})});</script><script type=\"text/javascript\">window.addEventListener(\"resize\", function(){window._Plotly.Plots.resize(document.getElementById(\"a98f4836-119a-49b8-b780-8412734a04dc\"));});</script>"
      ]
     },
     "metadata": {},
     "output_type": "display_data"
    },
    {
     "name": "stdout",
     "output_type": "stream",
     "text": [
      "pct chg plus avg is 2.455813888888889, pct chg minus avg is -2.6622139130434785\n",
      "223\n"
     ]
    }
   ],
   "source": [
    "# def get_day_of_date(date):\n",
    "#     return [a[6:8] for a in date]\n",
    "\n",
    "fields = \"trade_date, pct_chg\"\n",
    "\n",
    "data1 = pro.daily(ts_code='002236.SZ', start_date='20180101', end_date='20181131', fields=fields)\n",
    "\n",
    "pct_chg_st = [0,0,0,0,0,0,0,0,0,0,0,0,0,0,0,0,0,0,0,0]\n",
    "\n",
    "for a in data1.pct_chg:\n",
    "    if a < -9:\n",
    "        pct_chg_st[0]+=1\n",
    "    elif a < -8:\n",
    "        pct_chg_st[1]+=1\n",
    "    elif a < -7:\n",
    "        pct_chg_st[2]+=1\n",
    "    elif a < -6:\n",
    "        pct_chg_st[3]+=1\n",
    "    elif a < -5:\n",
    "        pct_chg_st[4]+=1\n",
    "    elif a < -4:\n",
    "        pct_chg_st[5]+=1\n",
    "    elif a < -3:\n",
    "        pct_chg_st[6]+=1\n",
    "    elif a < -2:\n",
    "        pct_chg_st[7]+=1\n",
    "    elif a < -1:\n",
    "        pct_chg_st[8]+=1\n",
    "    elif a < 0:\n",
    "        pct_chg_st[9]+=1\n",
    "    elif a < 1:\n",
    "        pct_chg_st[10]+=1\n",
    "    elif a < 2:\n",
    "        pct_chg_st[11]+=1\n",
    "    elif a < 3:\n",
    "        pct_chg_st[12]+=1\n",
    "    elif a < 4:\n",
    "        pct_chg_st[13]+=1\n",
    "    elif a < 5:\n",
    "        pct_chg_st[14]+=1\n",
    "    elif a < 6:\n",
    "        pct_chg_st[15]+=1\n",
    "    elif a < 7:\n",
    "        pct_chg_st[16]+=1\n",
    "    elif a < 8:\n",
    "        pct_chg_st[17]+=1\n",
    "    elif a < 9:\n",
    "        pct_chg_st[18]+=1\n",
    "    else:\n",
    "        pct_chg_st[19]+=1\n",
    "\n",
    "pct_chg_avg_plus = 0\n",
    "pct_chg_avg_minus = 0\n",
    "for b in data1.pct_chg:\n",
    "    if b > 0:\n",
    "        pct_chg_avg_plus+=b\n",
    "    else:\n",
    "        pct_chg_avg_minus+=b\n",
    "\n",
    "pct_chg_avg_plus = pct_chg_avg_plus / (pct_chg_st[10] + pct_chg_st[11] + pct_chg_st[12] + pct_chg_st[13]\n",
    "                                      + pct_chg_st[14] + pct_chg_st[15] + pct_chg_st[16] + pct_chg_st[17]\n",
    "                                      + pct_chg_st[18] + pct_chg_st[19])\n",
    "\n",
    "pct_chg_avg_minus = pct_chg_avg_minus / (pct_chg_st[0] + pct_chg_st[1] + pct_chg_st[2] + pct_chg_st[3]\n",
    "                                      + pct_chg_st[4] + pct_chg_st[5] + pct_chg_st[6] + pct_chg_st[7]\n",
    "                                      + pct_chg_st[8] + pct_chg_st[9])\n",
    "\n",
    "data1_line = go.Scatter(\n",
    "                x = [a for a in range(-9,11)],\n",
    "                y = pct_chg_st,\n",
    "                name = \"overyear\",\n",
    "                line = dict(color = '#00FF00'),\n",
    "                opacity = 0.8)\n",
    "\n",
    "data = [data1_line]\n",
    "plotly.offline.iplot(data)\n",
    "print(\"pct chg plus avg is {}, pct chg minus avg is {}\".format(pct_chg_avg_plus, pct_chg_avg_minus))\n",
    "print(sum(pct_chg_st))"
   ]
  },
  {
   "cell_type": "code",
   "execution_count": null,
   "metadata": {},
   "outputs": [],
   "source": [
    "df = ts.pro_bar(pro_api=pro, ts_code='002236.SZ', start_date='20181120', end_date='20181128')\n",
    "dfq = ts.pro_bar(pro_api=pro,ts_code='002236.SZ', adj='qfq', start_date='20181120', end_date='20181128')\n",
    "dfh = ts.pro_bar(pro_api=pro,ts_code='002236.SZ', adj='hfq', start_date='20181120', end_date='20181128')\n",
    "print(df)\n",
    "print(dfq)\n",
    "print(dfh)\n"
   ]
  },
  {
   "cell_type": "code",
   "execution_count": null,
   "metadata": {},
   "outputs": [],
   "source": [
    "print(pro.pledge_stat(ts_code='002236.SZ'))\n"
   ]
  }
 ],
 "metadata": {
  "kernelspec": {
   "display_name": "Python 3",
   "language": "python",
   "name": "python3"
  },
  "language_info": {
   "codemirror_mode": {
    "name": "ipython",
    "version": 3
   },
   "file_extension": ".py",
   "mimetype": "text/x-python",
   "name": "python",
   "nbconvert_exporter": "python",
   "pygments_lexer": "ipython3",
   "version": "3.7.0"
  }
 },
 "nbformat": 4,
 "nbformat_minor": 2
}
