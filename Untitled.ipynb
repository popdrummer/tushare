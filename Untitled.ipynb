{
 "cells": [
  {
   "cell_type": "code",
   "execution_count": null,
   "metadata": {},
   "outputs": [],
   "source": [
    "import tushare as ts\n",
    "import plotly\n",
    "import plotly.graph_objs as go\n",
    "\n",
    "ts.set_token('876d6d6b5774b023ceea5d01b4ecbd49f64d7c9e22d0661c87d7a8fb')\n",
    "pro = ts.pro_api()\n",
    "plotly.offline.init_notebook_mode(connected=True)\n",
    "\n",
    "daily = pro.daily(ts_code='002236.SZ', start_date='20180812', end_date='20181120')\n",
    "turnover_rate = pro.daily_basic(ts_code='002236.SZ', start_date='20180812', end_date='20181120')\n",
    "date = [\"{}-{}-{}\".format(a[:4], a[4:6], a[6:8]) for a in daily.trade_date]\n",
    "\n",
    "open_line = go.Scatter(\n",
    "#                 x=daily.trade_date,\n",
    "                x = date,\n",
    "                y=daily.open,\n",
    "                name = \"open\",\n",
    "                line = dict(color = '#FF0000'),\n",
    "                opacity = 0.8)\n",
    "\n",
    "close_line = go.Scatter(\n",
    "#                 x=daily.trade_date,\n",
    "                x = date,\n",
    "                y=daily.close,\n",
    "                name = \"close\",\n",
    "                line = dict(color = '#17BECF'),\n",
    "                opacity = 0.8)\n",
    "\n",
    "tunrover_line = go.Scatter(\n",
    "#                 x=turnover_rate.trade_date,\n",
    "                x = date,\n",
    "                y=turnover_rate.turnover_rate,\n",
    "                name = \"turnover rate\",\n",
    "                line = dict(color = '#7F7F7F'),\n",
    "                opacity = 0.8)\n",
    "\n",
    "data = [open_line, close_line, tunrover_line]\n",
    "plotly.offline.iplot(data)"
   ]
  },
  {
   "cell_type": "code",
   "execution_count": null,
   "metadata": {
    "scrolled": false
   },
   "outputs": [],
   "source": []
  },
  {
   "cell_type": "code",
   "execution_count": null,
   "metadata": {},
   "outputs": [],
   "source": []
  }
 ],
 "metadata": {
  "kernelspec": {
   "display_name": "Python 3",
   "language": "python",
   "name": "python3"
  },
  "language_info": {
   "codemirror_mode": {
    "name": "ipython",
    "version": 3
   },
   "file_extension": ".py",
   "mimetype": "text/x-python",
   "name": "python",
   "nbconvert_exporter": "python",
   "pygments_lexer": "ipython3",
   "version": "3.6.5"
  }
 },
 "nbformat": 4,
 "nbformat_minor": 2
}
