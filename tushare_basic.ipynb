{
 "cells": [
  {
   "cell_type": "code",
   "execution_count": 6,
   "metadata": {},
   "outputs": [
    {
     "data": {
      "text/html": [
       "<script type=\"text/javascript\">window.PlotlyConfig = {MathJaxConfig: 'local'};</script><script type=\"text/javascript\">if (window.MathJax) {MathJax.Hub.Config({SVG: {font: \"STIX-Web\"}});}</script><script>requirejs.config({paths: { 'plotly': ['https://cdn.plot.ly/plotly-latest.min']},});if(!window._Plotly) {require(['plotly'],function(plotly) {window._Plotly=plotly;});}</script>"
      ],
      "text/vnd.plotly.v1+html": [
       "<script type=\"text/javascript\">window.PlotlyConfig = {MathJaxConfig: 'local'};</script><script type=\"text/javascript\">if (window.MathJax) {MathJax.Hub.Config({SVG: {font: \"STIX-Web\"}});}</script><script>requirejs.config({paths: { 'plotly': ['https://cdn.plot.ly/plotly-latest.min']},});if(!window._Plotly) {require(['plotly'],function(plotly) {window._Plotly=plotly;});}</script>"
      ]
     },
     "metadata": {},
     "output_type": "display_data"
    }
   ],
   "source": [
    "import tushare as ts\n",
    "import plotly\n",
    "import plotly.graph_objs as go\n",
    "\n",
    "ts.set_token('876d6d6b5774b023ceea5d01b4ecbd49f64d7c9e22d0661c87d7a8fb')\n",
    "pro = ts.pro_api()\n",
    "plotly.offline.init_notebook_mode(connected=True)"
   ]
  },
  {
   "cell_type": "code",
   "execution_count": 7,
   "metadata": {},
   "outputs": [],
   "source": [
    "def date_format_transfer(date, split_simbol='-'):\n",
    "    return [\"{}{}{}{}{}\".format(a[:4], split_simbol, a[4:6], split_simbol, a[6:8]) for a in date]"
   ]
  },
  {
   "cell_type": "code",
   "execution_count": 10,
   "metadata": {},
   "outputs": [
    {
     "name": "stdout",
     "output_type": "stream",
     "text": [
      "002236.SZ 20180901 20180931\n",
      "      ts_code trade_date   open   high    low  close  pre_close  change  \\\n",
      "0   002236.SZ   20180928  14.95  14.98  14.65  14.77      14.85   -0.08   \n",
      "1   002236.SZ   20180927  15.00  15.16  14.65  14.85      15.00   -0.15   \n",
      "2   002236.SZ   20180926  14.31  15.51  14.24  15.00      14.28    0.72   \n",
      "3   002236.SZ   20180925  14.35  14.50  14.22  14.28      14.54   -0.26   \n",
      "4   002236.SZ   20180921  13.89  14.72  13.76  14.54      13.85    0.69   \n",
      "5   002236.SZ   20180920  13.86  14.13  13.83  13.85      13.97   -0.12   \n",
      "6   002236.SZ   20180919  13.69  14.11  13.53  13.97      13.80    0.17   \n",
      "7   002236.SZ   20180918  13.65  13.83  12.94  13.80      13.61    0.19   \n",
      "8   002236.SZ   20180917  13.79  13.84  13.55  13.61      13.91   -0.30   \n",
      "9   002236.SZ   20180914  13.99  14.07  13.74  13.91      14.18   -0.27   \n",
      "10  002236.SZ   20180913  14.20  14.36  13.29  14.18      14.02    0.16   \n",
      "11  002236.SZ   20180912  15.62  15.67  14.02  14.02      15.58   -1.56   \n",
      "12  002236.SZ   20180911  15.64  15.88  15.41  15.58      15.54    0.04   \n",
      "13  002236.SZ   20180910  16.15  16.39  15.40  15.54      16.14   -0.60   \n",
      "14  002236.SZ   20180907  16.47  17.01  15.48  16.14      16.41   -0.27   \n",
      "15  002236.SZ   20180906  16.64  16.84  16.27  16.41      16.64   -0.23   \n",
      "16  002236.SZ   20180905  16.33  17.15  16.23  16.64      16.51    0.13   \n",
      "17  002236.SZ   20180904  15.61  16.60  15.61  16.51      15.64    0.87   \n",
      "18  002236.SZ   20180903  15.59  15.85  15.43  15.64      15.55    0.09   \n",
      "\n",
      "    pct_chg         vol       amount  \n",
      "0   -0.5387   288045.94   425889.773  \n",
      "1   -1.0000   292513.21   435702.912  \n",
      "2    5.0420   641177.45   956011.033  \n",
      "3   -1.7882   242434.44   346885.869  \n",
      "4    4.9819   425935.01   607491.595  \n",
      "5   -0.8590   278020.55   388081.610  \n",
      "6    1.2319   488279.56   676379.789  \n",
      "7    1.3960   579470.13   777720.177  \n",
      "8   -2.1567   235712.31   322532.614  \n",
      "9   -1.9041   462313.81   641712.710  \n",
      "10   1.1412  1035134.73  1430828.393  \n",
      "11 -10.0128  1130116.58  1639883.534  \n",
      "12   0.2574   283091.27   442059.562  \n",
      "13  -3.7175   263063.08   415329.427  \n",
      "14  -1.6453   391505.76   648082.532  \n",
      "15  -1.3822   240222.43   397119.032  \n",
      "16   0.7874   432082.48   722890.215  \n",
      "17   5.5627   488936.70   795425.074  \n",
      "18   0.5788   292671.52   456261.423  \n"
     ]
    }
   ],
   "source": [
    "def get_month_daily_datum(pro, ts_code, year, month):\n",
    "    start_date = \"{}{}01\".format(year, month)\n",
    "    end_date = \"{}{}31\".format(year, month)\n",
    "    print(ts_code, start_date, end_date)\n",
    "    \n",
    "    return pro.daily(ts_code=ts_code, start_date=start_date, end_date=end_date)\n",
    "\n",
    "print(get_month_daily_datum(pro, '002236.SZ', '2018', '09'))"
   ]
  },
  {
   "cell_type": "code",
   "execution_count": null,
   "metadata": {
    "scrolled": false
   },
   "outputs": [],
   "source": [
    "daily = pro.daily(ts_code='002236.SZ', start_date='20180627', end_date='20181128')\n",
    "turnover_rate = pro.daily_basic(ts_code='002236.SZ', start_date='20180627', end_date='20181128')\n",
    "date = date_format_transfer(daily.trade_date)\n",
    "\n",
    "open_line = go.Scatter(\n",
    "                x = date,\n",
    "                y=daily.open,\n",
    "                name = \"open\",\n",
    "                line = dict(color = '#FF0000'),\n",
    "                opacity = 0.8)\n",
    "\n",
    "close_line = go.Scatter(\n",
    "                x = date,\n",
    "                y=daily.close,\n",
    "                name = \"close\",\n",
    "                line = dict(color = '#17BECF'),\n",
    "                opacity = 0.8)\n",
    "\n",
    "tunrover_line = go.Scatter(\n",
    "                x = date,\n",
    "                y=turnover_rate.turnover_rate,\n",
    "                name = \"turnover rate\",\n",
    "                line = dict(color = '#7F7F7F'),\n",
    "                opacity = 0.8)\n",
    "\n",
    "data = [open_line, close_line, tunrover_line]\n",
    "plotly.offline.iplot(data)"
   ]
  },
  {
   "cell_type": "code",
   "execution_count": null,
   "metadata": {},
   "outputs": [],
   "source": [
    "df = ts.pro_bar(pro_api=pro, ts_code='002236.SZ', start_date='20181120', end_date='20181128')\n",
    "dfq = ts.pro_bar(pro_api=pro,ts_code='002236.SZ', adj='qfq', start_date='20181120', end_date='20181128')\n",
    "dfh = ts.pro_bar(pro_api=pro,ts_code='002236.SZ', adj='hfq', start_date='20181120', end_date='20181128')\n",
    "print(df)\n",
    "print(dfq)\n",
    "print(dfh)\n"
   ]
  },
  {
   "cell_type": "code",
   "execution_count": null,
   "metadata": {},
   "outputs": [],
   "source": [
    "print(pro.pledge_stat(ts_code='002236.SZ'))\n"
   ]
  }
 ],
 "metadata": {
  "kernelspec": {
   "display_name": "Python 3",
   "language": "python",
   "name": "python3"
  },
  "language_info": {
   "codemirror_mode": {
    "name": "ipython",
    "version": 3
   },
   "file_extension": ".py",
   "mimetype": "text/x-python",
   "name": "python",
   "nbconvert_exporter": "python",
   "pygments_lexer": "ipython3",
   "version": "3.6.5"
  }
 },
 "nbformat": 4,
 "nbformat_minor": 2
}
