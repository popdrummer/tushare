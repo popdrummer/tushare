{
 "cells": [
  {
   "cell_type": "code",
   "execution_count": null,
   "metadata": {},
   "outputs": [],
   "source": [
    "import tushare as ts\n",
    "import plotly\n",
    "import plotly.graph_objs as go\n",
    "import plotly.figure_factory as ff\n",
    "from collections import namedtuple\n",
    "\n",
    "scatter_info = namedtuple('scatter_info', ['x_pos', 'y_pos', 'name', 'color', 'opacity'])\n",
    "distplots_info = namedtuple('distplots_info', ['hist_data', 'group_labels', 'colors', 'title_name'])\n",
    "bar_info = namedtuple('bar_info', ['x_pos', 'y_pos', 'text', 'name', 'fill_color', 'opacity'])\n",
    "\n",
    "ts.set_token('9ac1e34451f6f8d728cd16571809e61c6a15a8c6aae50f2a5f031fc0')\n",
    "pro = ts.pro_api()\n",
    "plotly.offline.init_notebook_mode(connected=True)"
   ]
  },
  {
   "cell_type": "code",
   "execution_count": null,
   "metadata": {},
   "outputs": [],
   "source": [
    "def date_format_transfer(date, split_simbol='-'):\n",
    "    return [\"{}{}{}{}{}\".format(a[:4], split_simbol, a[4:6], split_simbol, a[6:8]) for a in date]"
   ]
  },
  {
   "cell_type": "code",
   "execution_count": null,
   "metadata": {},
   "outputs": [],
   "source": [
    "def get_day_of_date(date):\n",
    "    return [a[6:8] for a in date]"
   ]
  },
  {
   "cell_type": "code",
   "execution_count": null,
   "metadata": {},
   "outputs": [],
   "source": [
    "def get_month_daily_datum(pro, ts_code, year, month, fields):\n",
    "    start_date = \"{}{}01\".format(year, month)\n",
    "    end_date = \"{}{}31\".format(year, month)\n",
    "    return pro.daily(ts_code=ts_code, start_date=start_date, end_date=end_date, fields=fields)"
   ]
  },
  {
   "cell_type": "code",
   "execution_count": null,
   "metadata": {},
   "outputs": [],
   "source": [
    "def draw_scatter_diagram(data_infos):\n",
    "    datum = [go.Scatter(\n",
    "                x = info.x_pos,\n",
    "                y = info.y_pos,\n",
    "                name = info.name,\n",
    "                line = dict(color = info.color),\n",
    "                opacity = info.opacity) for info in data_infos]\n",
    "    plotly.offline.iplot(datum)"
   ]
  },
  {
   "cell_type": "code",
   "execution_count": null,
   "metadata": {},
   "outputs": [],
   "source": [
    "def draw_bar_diagram(data_infos, title=None):\n",
    "    data = [go.Bar(\n",
    "                x=data.x_pos,\n",
    "                y=data.y_pos,\n",
    "                text=data.text,\n",
    "                textposition = 'auto',\n",
    "                name=data.name,\n",
    "                marker=dict(\n",
    "                    color=data.fill_color,\n",
    "                ),\n",
    "                opacity=data.opacity\n",
    "            ) for data in data_infos]\n",
    "    layout = go.Layout(title=title,)\n",
    "    fig = go.Figure(data=data, layout=layout)\n",
    "    plotly.offline.iplot(fig)"
   ]
  },
  {
   "cell_type": "code",
   "execution_count": null,
   "metadata": {},
   "outputs": [],
   "source": [
    "def draw_distplots_diagram(data_infos, show_hist=True, show_curve=True, show_rug=True, title_name=None):\n",
    "    fig = ff.create_distplot(data_infos.hist_data, data_infos.group_labels, colors=data_infos.colors,\n",
    "                             show_hist=show_hist, show_curve=show_curve, show_rug=show_rug)\n",
    "    fig['layout'].update(title=title_name)   \n",
    "    plotly.offline.iplot(fig)"
   ]
  },
  {
   "cell_type": "code",
   "execution_count": null,
   "metadata": {},
   "outputs": [],
   "source": [
    "fields = \"trade_date, pct_chg\"\n",
    "data = pro.daily(ts_code='002236.SZ', start_date='20180101', end_date='20181231', fields=fields)\n",
    "pctchg_info = distplots_info([data.pct_chg], ['pct chg'], ['#333F44'], \n",
    "                             title_name='pct change rate statistics of 2018 whole year')\n",
    "draw_distplots_diagram(pctchg_info, show_rug=False)"
   ]
  },
  {
   "cell_type": "code",
   "execution_count": null,
   "metadata": {},
   "outputs": [],
   "source": [
    "fields = \"trade_date, pct_chg\"\n",
    "date9 = get_month_daily_datum(pro, '002236.SZ', '2018', '09', fields)\n",
    "date9_info = scatter_info(get_day_of_date(date9.trade_date), date9.pct_chg, 'Sep', '#FF0000', 0.8)\n",
    "date10 = get_month_daily_datum(pro, '002236.SZ', '2018', '10', fields)\n",
    "date10_info = scatter_info(get_day_of_date(date10.trade_date), date10.pct_chg, 'Oct', '#00FF00', 0.8)\n",
    "date11 = get_month_daily_datum(pro, '002236.SZ', '2018', '11', fields)\n",
    "date11_info = scatter_info(get_day_of_date(date11.trade_date), date11.pct_chg, 'Nov', '#0000FF', 0.8)\n",
    "date_infos = [date9_info, date10_info, date11_info] \n",
    "draw_scatter_diagram(date_infos)"
   ]
  },
  {
   "cell_type": "code",
   "execution_count": null,
   "metadata": {},
   "outputs": [],
   "source": [
    "df = ts.pro_bar(pro_api=pro, ts_code='002236.SZ', start_date='20181120', end_date='20181128')\n",
    "dfq = ts.pro_bar(pro_api=pro,ts_code='002236.SZ', adj='qfq', start_date='20181120', end_date='20181128')\n",
    "dfh = ts.pro_bar(pro_api=pro,ts_code='002236.SZ', adj='hfq', start_date='20181120', end_date='20181128')\n",
    "print(df)\n",
    "print(dfq)\n",
    "print(dfh)\n"
   ]
  },
  {
   "cell_type": "code",
   "execution_count": null,
   "metadata": {},
   "outputs": [],
   "source": [
    "print(pro.pledge_stat(ts_code='002236.SZ'))\n"
   ]
  },
  {
   "cell_type": "code",
   "execution_count": 62,
   "metadata": {},
   "outputs": [
    {
     "name": "stdout",
     "output_type": "stream",
     "text": [
      "pct chg plus avg is 2.52598, pct chg minus avg is -2.5945305084745764\n",
      "223\n"
     ]
    }
   ],
   "source": [
    "fields = \"trade_date, pct_chg\"\n",
    "data1 = pro.daily(ts_code='002236.SZ', start_date='20180101', end_date='20181231', fields=fields)\n",
    "\n",
    "pct_chg_avg_plus = 0\n",
    "pct_chg_plus_count = 0\n",
    "pct_chg_avg_minus = 0\n",
    "pct_chg_minus_count = 0\n",
    "\n",
    "for b in data1.pct_chg:\n",
    "    if b > 0:\n",
    "        pct_chg_avg_plus+=b\n",
    "        pct_chg_plus_count+=1\n",
    "    else:\n",
    "        pct_chg_avg_minus+=b\n",
    "        pct_chg_minus_count+=1\n",
    "\n",
    "pct_chg_avg_plus = pct_chg_avg_plus / pct_chg_plus_count\n",
    "pct_chg_avg_minus = pct_chg_avg_minus / pct_chg_minus_count\n",
    "\n",
    "print(\"pct chg plus avg is {}, pct chg minus avg is {}\".format(pct_chg_avg_plus, pct_chg_avg_minus))\n",
    "print(sum(pct_chg_st))"
   ]
  }
 ],
 "metadata": {
  "kernelspec": {
   "display_name": "Python 3",
   "language": "python",
   "name": "python3"
  },
  "language_info": {
   "codemirror_mode": {
    "name": "ipython",
    "version": 3
   },
   "file_extension": ".py",
   "mimetype": "text/x-python",
   "name": "python",
   "nbconvert_exporter": "python",
   "pygments_lexer": "ipython3",
   "version": "3.6.5"
  }
 },
 "nbformat": 4,
 "nbformat_minor": 2
}
