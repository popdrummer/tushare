{
 "cells": [
  {
   "cell_type": "code",
   "execution_count": null,
   "metadata": {},
   "outputs": [],
   "source": [
    "import tushare as ts\n",
    "import plotly\n",
    "import plotly.graph_objs as go\n",
    "from collections import namedtuple\n",
    "\n",
    "scatter_info = namedtuple('scatter_info', ['x_pos', 'y_pos', 'name', 'color', 'opacity'])\n",
    "\n",
    "ts.set_token('beb6b9371b4c0dd611ed4985441301f29466e0f69bf7ad5b24be7ca3')\n",
    "pro = ts.pro_api()\n",
    "plotly.offline.init_notebook_mode(connected=True)"
   ]
  },
  {
   "cell_type": "code",
   "execution_count": null,
   "metadata": {},
   "outputs": [],
   "source": [
    "def date_format_transfer(date, split_simbol='-'):\n",
    "    return [\"{}{}{}{}{}\".format(a[:4], split_simbol, a[4:6], split_simbol, a[6:8]) for a in date]"
   ]
  },
  {
   "cell_type": "code",
   "execution_count": null,
   "metadata": {},
   "outputs": [],
   "source": [
    "def get_day_of_date(date):\n",
    "    return [a[6:8] for a in date]"
   ]
  },
  {
   "cell_type": "code",
   "execution_count": null,
   "metadata": {},
   "outputs": [],
   "source": [
    "def get_month_daily_datum(pro, ts_code, year, month, fields):\n",
    "    start_date = \"{}{}01\".format(year, month)\n",
    "    end_date = \"{}{}31\".format(year, month)\n",
    "    return pro.daily(ts_code=ts_code, start_date=start_date, end_date=end_date, fields=fields)"
   ]
  },
  {
   "cell_type": "code",
   "execution_count": null,
   "metadata": {},
   "outputs": [],
   "source": [
    "def draw_diagram(date_infos):\n",
    "    datum = [go.Scatter(\n",
    "                x = info.x_pos,\n",
    "                y = info.y_pos,\n",
    "                name = info.name,\n",
    "                line = dict(color = info.color),\n",
    "                opacity = info.opacity) for info in date_infos]\n",
    "    plotly.offline.iplot(datum)"
   ]
  },
  {
   "cell_type": "code",
   "execution_count": null,
   "metadata": {},
   "outputs": [],
   "source": [
    "fields = \"trade_date, pct_chg\"\n",
    "date9 = get_month_daily_datum(pro, '002236.SZ', '2018', '09', fields)\n",
    "date9_info = scatter_info(get_day_of_date(date9.trade_date), date9.pct_chg, 'Sep', '#FF0000', 0.8)\n",
    "date10 = get_month_daily_datum(pro, '002236.SZ', '2018', '10', fields)\n",
    "date10_info = scatter_info(get_day_of_date(date10.trade_date), date10.pct_chg, 'Oct', '#00FF00', 0.8)\n",
    "date11 = get_month_daily_datum(pro, '002236.SZ', '2018', '11', fields)\n",
    "date11_info = scatter_info(get_day_of_date(date11.trade_date), date11.pct_chg, 'Nov', '#0000FF', 0.8)\n",
    "date_infos = [date9_info, date10_info, date11_info] \n",
    "draw_diagram(date_infos)"
   ]
  },
  {
   "cell_type": "code",
   "execution_count": null,
   "metadata": {},
   "outputs": [],
   "source": [
    "df = ts.pro_bar(pro_api=pro, ts_code='002236.SZ', start_date='20181120', end_date='20181128')\n",
    "dfq = ts.pro_bar(pro_api=pro,ts_code='002236.SZ', adj='qfq', start_date='20181120', end_date='20181128')\n",
    "dfh = ts.pro_bar(pro_api=pro,ts_code='002236.SZ', adj='hfq', start_date='20181120', end_date='20181128')\n",
    "print(df)\n",
    "print(dfq)\n",
    "print(dfh)\n"
   ]
  },
  {
   "cell_type": "code",
   "execution_count": null,
   "metadata": {},
   "outputs": [],
   "source": [
    "print(pro.pledge_stat(ts_code='002236.SZ'))\n"
   ]
  },
  {
   "cell_type": "code",
   "execution_count": null,
   "metadata": {},
   "outputs": [],
   "source": [
    "fields = \"trade_date, pct_chg\"\n",
    "\n",
    "data1 = pro.daily(ts_code='002236.SZ', start_date='20180101', end_date='20181131', fields=fields)\n",
    "\n",
    "pct_chg_st = [0,0,0,0,0,0,0,0,0,0,0,0,0,0,0,0,0,0,0,0]\n",
    "\n",
    "for a in data1.pct_chg:\n",
    "    if a < -9:\n",
    "        pct_chg_st[0]+=1\n",
    "    elif a < -8:\n",
    "        pct_chg_st[1]+=1\n",
    "    elif a < -7:\n",
    "        pct_chg_st[2]+=1\n",
    "    elif a < -6:\n",
    "        pct_chg_st[3]+=1\n",
    "    elif a < -5:\n",
    "        pct_chg_st[4]+=1\n",
    "    elif a < -4:\n",
    "        pct_chg_st[5]+=1\n",
    "    elif a < -3:\n",
    "        pct_chg_st[6]+=1\n",
    "    elif a < -2:\n",
    "        pct_chg_st[7]+=1\n",
    "    elif a < -1:\n",
    "        pct_chg_st[8]+=1\n",
    "    elif a < 0:\n",
    "        pct_chg_st[9]+=1\n",
    "    elif a < 1:\n",
    "        pct_chg_st[10]+=1\n",
    "    elif a < 2:\n",
    "        pct_chg_st[11]+=1\n",
    "    elif a < 3:\n",
    "        pct_chg_st[12]+=1\n",
    "    elif a < 4:\n",
    "        pct_chg_st[13]+=1\n",
    "    elif a < 5:\n",
    "        pct_chg_st[14]+=1\n",
    "    elif a < 6:\n",
    "        pct_chg_st[15]+=1\n",
    "    elif a < 7:\n",
    "        pct_chg_st[16]+=1\n",
    "    elif a < 8:\n",
    "        pct_chg_st[17]+=1\n",
    "    elif a < 9:\n",
    "        pct_chg_st[18]+=1\n",
    "    else:\n",
    "        pct_chg_st[19]+=1\n",
    "\n",
    "pct_chg_avg_plus = 0\n",
    "pct_chg_avg_minus = 0\n",
    "for b in data1.pct_chg:\n",
    "    if b > 0:\n",
    "        pct_chg_avg_plus+=b\n",
    "    else:\n",
    "        pct_chg_avg_minus+=b\n",
    "\n",
    "pct_chg_avg_plus = pct_chg_avg_plus / (pct_chg_st[10] + pct_chg_st[11] + pct_chg_st[12] + pct_chg_st[13]\n",
    "                                      + pct_chg_st[14] + pct_chg_st[15] + pct_chg_st[16] + pct_chg_st[17]\n",
    "                                      + pct_chg_st[18] + pct_chg_st[19])\n",
    "\n",
    "pct_chg_avg_minus = pct_chg_avg_minus / (pct_chg_st[0] + pct_chg_st[1] + pct_chg_st[2] + pct_chg_st[3]\n",
    "                                      + pct_chg_st[4] + pct_chg_st[5] + pct_chg_st[6] + pct_chg_st[7]\n",
    "                                      + pct_chg_st[8] + pct_chg_st[9])\n",
    "\n",
    "data1_line = go.Scatter(\n",
    "                x = [a for a in range(-9,11)],\n",
    "                y = pct_chg_st,\n",
    "                name = \"overyear\",\n",
    "                line = dict(color = '#00FF00'),\n",
    "                opacity = 0.8)\n",
    "\n",
    "data = [data1_line]\n",
    "plotly.offline.iplot(data)\n",
    "print(\"pct chg plus avg is {}, pct chg minus avg is {}\".format(pct_chg_avg_plus, pct_chg_avg_minus))\n",
    "print(sum(pct_chg_st))"
   ]
  }
 ],
 "metadata": {
  "kernelspec": {
   "display_name": "Python 3",
   "language": "python",
   "name": "python3"
  },
  "language_info": {
   "codemirror_mode": {
    "name": "ipython",
    "version": 3
   },
   "file_extension": ".py",
   "mimetype": "text/x-python",
   "name": "python",
   "nbconvert_exporter": "python",
   "pygments_lexer": "ipython3",
   "version": "3.6.5"
  }
 },
 "nbformat": 4,
 "nbformat_minor": 2
}
