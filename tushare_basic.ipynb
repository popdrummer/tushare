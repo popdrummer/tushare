{
 "cells": [
  {
   "cell_type": "code",
   "execution_count": 53,
   "metadata": {},
   "outputs": [
    {
     "data": {
      "text/html": [
       "<script type=\"text/javascript\">window.PlotlyConfig = {MathJaxConfig: 'local'};</script><script type=\"text/javascript\">if (window.MathJax) {MathJax.Hub.Config({SVG: {font: \"STIX-Web\"}});}</script><script>requirejs.config({paths: { 'plotly': ['https://cdn.plot.ly/plotly-latest.min']},});if(!window._Plotly) {require(['plotly'],function(plotly) {window._Plotly=plotly;});}</script>"
      ],
      "text/vnd.plotly.v1+html": [
       "<script type=\"text/javascript\">window.PlotlyConfig = {MathJaxConfig: 'local'};</script><script type=\"text/javascript\">if (window.MathJax) {MathJax.Hub.Config({SVG: {font: \"STIX-Web\"}});}</script><script>requirejs.config({paths: { 'plotly': ['https://cdn.plot.ly/plotly-latest.min']},});if(!window._Plotly) {require(['plotly'],function(plotly) {window._Plotly=plotly;});}</script>"
      ]
     },
     "metadata": {},
     "output_type": "display_data"
    }
   ],
   "source": [
    "%matplotlib inline\n",
    "\n",
    "import tushare as ts\n",
    "import plotly\n",
    "import plotly.graph_objs as go\n",
    "import plotly.figure_factory as ff\n",
    "import numpy as np\n",
    "from collections import namedtuple\n",
    "\n",
    "\n",
    "\n",
    "scatter_info = namedtuple('scatter_info', ['x_pos', 'y_pos', 'name', 'color', 'opacity'])\n",
    "distplots_info = namedtuple('distplots_info', ['hist_data', 'group_labels', 'colors', 'title_name'])\n",
    "bar_info = namedtuple('bar_info', ['x_pos', 'y_pos', 'text', 'name', 'fill_color', 'opacity'])\n",
    "\n",
    "ts.set_token('a309ac73e318eb784409e517eca79159e855faf2b6a4df623cc33684')\n",
    "pro = ts.pro_api()\n",
    "plotly.offline.init_notebook_mode(connected=True)"
   ]
  },
  {
   "cell_type": "code",
   "execution_count": null,
   "metadata": {},
   "outputs": [],
   "source": [
    "def date_format_transfer(date, split_simbol='-'):\n",
    "    return [\"{}{}{}{}{}\".format(a[:4], split_simbol, a[4:6], split_simbol, a[6:8]) for a in date]"
   ]
  },
  {
   "cell_type": "code",
   "execution_count": null,
   "metadata": {},
   "outputs": [],
   "source": [
    "def get_day_of_date(date):\n",
    "    return [a[6:8] for a in date]"
   ]
  },
  {
   "cell_type": "code",
   "execution_count": null,
   "metadata": {},
   "outputs": [],
   "source": [
    "def get_month_daily_datum(pro, ts_code, year, month, fields, is_index=False):\n",
    "    start_date = \"{}{}01\".format(year, month)\n",
    "    end_date = \"{}{}31\".format(year, month)\n",
    "    if is_index:\n",
    "        return pro.index_daily(ts_code=ts_code, start_date=start_date, end_date=end_date, fields=fields)\n",
    "    else:\n",
    "        return pro.daily(ts_code=ts_code, start_date=start_date, end_date=end_date, fields=fields)"
   ]
  },
  {
   "cell_type": "code",
   "execution_count": null,
   "metadata": {},
   "outputs": [],
   "source": [
    "def draw_scatter_diagram(data_infos):\n",
    "    datum = [go.Scatter(\n",
    "                x = info.x_pos,\n",
    "                y = info.y_pos,\n",
    "                name = info.name,\n",
    "                line = dict(color = info.color),\n",
    "                opacity = info.opacity) for info in data_infos]\n",
    "    plotly.offline.iplot(datum)"
   ]
  },
  {
   "cell_type": "code",
   "execution_count": null,
   "metadata": {},
   "outputs": [],
   "source": [
    "def draw_bar_diagram(data_infos, title=None):\n",
    "    data = [go.Bar(\n",
    "                x=data.x_pos,\n",
    "                y=data.y_pos,\n",
    "                text=data.text,\n",
    "                textposition = 'auto',\n",
    "                name=data.name,\n",
    "                marker=dict(\n",
    "                    color=data.fill_color,\n",
    "                ),\n",
    "                opacity=data.opacity\n",
    "            ) for data in data_infos]\n",
    "    layout = go.Layout(title=title,)\n",
    "    fig = go.Figure(data=data, layout=layout)\n",
    "    plotly.offline.iplot(fig)"
   ]
  },
  {
   "cell_type": "code",
   "execution_count": null,
   "metadata": {},
   "outputs": [],
   "source": [
    "def draw_distplots_diagram(data_infos, show_hist=True, show_curve=True, show_rug=True, title_name=None):\n",
    "    fig = ff.create_distplot(data_infos.hist_data, data_infos.group_labels, colors=data_infos.colors,\n",
    "                             show_hist=show_hist, show_curve=show_curve, show_rug=show_rug)\n",
    "    fig['layout'].update(title=title_name)   \n",
    "    plotly.offline.iplot(fig)"
   ]
  },
  {
   "cell_type": "code",
   "execution_count": null,
   "metadata": {},
   "outputs": [],
   "source": [
    "fields = \"trade_date, pct_chg\"\n",
    "# data = pro.daily(ts_code='002236.SZ', start_date='20180101', end_date='20181231', fields=fields)\n",
    "data = pro.query('daily', ts_code='002236.SZ', start_date='20180101', end_date='20181231', fields=fields)\n",
    "pctchg_info = distplots_info([data.pct_chg], ['pct chg'], ['#333F44'], \n",
    "                             title_name='pct change rate statistics of 2018 whole year')\n",
    "draw_distplots_diagram(pctchg_info, show_rug=False)"
   ]
  },
  {
   "cell_type": "code",
   "execution_count": null,
   "metadata": {},
   "outputs": [],
   "source": [
    "fields = \"trade_date, pct_chg\"\n",
    "date9 = get_month_daily_datum(pro, '002236.SZ', '2018', '09', fields)\n",
    "date9_info = scatter_info(get_day_of_date(date9.trade_date), date9.pct_chg, 'Sep', '#FF0000', 0.8)\n",
    "date10 = get_month_daily_datum(pro, '002236.SZ', '2018', '10', fields)\n",
    "date10_info = scatter_info(get_day_of_date(date10.trade_date), date10.pct_chg, 'Oct', '#00FF00', 0.8)\n",
    "date11 = get_month_daily_datum(pro, '002236.SZ', '2018', '11', fields)\n",
    "date11_info = scatter_info(get_day_of_date(date11.trade_date), date11.pct_chg, 'Nov', '#0000FF', 0.8)\n",
    "date_infos = [date9_info, date10_info, date11_info] \n",
    "draw_scatter_diagram(date_infos)"
   ]
  },
  {
   "cell_type": "code",
   "execution_count": null,
   "metadata": {},
   "outputs": [],
   "source": [
    "fields = \"trade_date, pct_chg\"\n",
    "start_date = '20180101'\n",
    "end_date = '20181231'\n",
    "index_date = pro.index_daily(ts_code='399001.SZ', start_date=start_date, end_date=end_date, fields=fields)\n",
    "index_date_info = scatter_info(date_format_transfer(index_date.trade_date), index_date.pct_chg, 'SZ_index', '#00FF00', 0.8)\n",
    "stock_date = pro.daily(ts_code='002236.SZ', start_date=start_date, end_date=end_date, fields=fields)\n",
    "stock_date_info = scatter_info(date_format_transfer(stock_date.trade_date), stock_date.pct_chg, 'Dahua', '#FF0000', 0.8)\n",
    "date_infos = [stock_date_info, index_date_info] \n",
    "draw_scatter_diagram(date_infos)"
   ]
  },
  {
   "cell_type": "code",
   "execution_count": null,
   "metadata": {},
   "outputs": [],
   "source": [
    "df = ts.pro_bar(pro_api=pro, ts_code='002236.SZ', start_date='20181120', end_date='20181128')\n",
    "dfq = ts.pro_bar(pro_api=pro,ts_code='002236.SZ', adj='qfq', start_date='20181120', end_date='20181128')\n",
    "dfh = ts.pro_bar(pro_api=pro,ts_code='002236.SZ', adj='hfq', start_date='20181120', end_date='20181128')\n",
    "print(df)\n",
    "print(dfq)\n",
    "print(dfh)\n"
   ]
  },
  {
   "cell_type": "code",
   "execution_count": null,
   "metadata": {},
   "outputs": [],
   "source": [
    "print(pro.pledge_stat(ts_code='002236.SZ'))\n"
   ]
  },
  {
   "cell_type": "code",
   "execution_count": null,
   "metadata": {},
   "outputs": [],
   "source": [
    "fields = \"trade_date, pct_chg\"\n",
    "data1 = pro.daily(ts_code='002236.SZ', start_date='20180101', end_date='20181231', fields=fields)\n",
    "\n",
    "print(data1[data1.pct_chg>0].pct_chg.describe())\n",
    "print(data1[data1.pct_chg<=0].pct_chg.describe())"
   ]
  },
  {
   "cell_type": "code",
   "execution_count": null,
   "metadata": {},
   "outputs": [],
   "source": [
    "fields = \"trade_date, pct_chg\"\n",
    "df_index = pro.index_daily(ts_code='399001.SZ', )\n",
    "df"
   ]
  },
  {
   "cell_type": "code",
   "execution_count": 86,
   "metadata": {},
   "outputs": [],
   "source": [
    "def get_ATR(data):\n",
    "    return max(data[0]-data[1], abs(data[0]-data[2]), abs(data[2]-data[1]))"
   ]
  },
  {
   "cell_type": "code",
   "execution_count": 85,
   "metadata": {},
   "outputs": [],
   "source": [
    "def get_N_Initial_Value(Initial_N_data):\n",
    "    return np.array([get_ATR(x) for x in Initial_N_data.to_numpy()]).mean()"
   ]
  },
  {
   "cell_type": "code",
   "execution_count": 133,
   "metadata": {},
   "outputs": [],
   "source": [
    "def get_N_value(data, total_days=40):\n",
    "    N_0 = get_N_Initial_Value(data[total_days-20:total_days])\n",
    "    N = PDN = N_0\n",
    "    for x in reversed(data[:total_days-20].to_numpy()):\n",
    "        N = (19*PDN + get_ATR(x)) / 20\n",
    "        PDN = N\n",
    "    print(\"N is\", N)\n",
    "    return N"
   ]
  },
  {
   "cell_type": "code",
   "execution_count": 157,
   "metadata": {},
   "outputs": [],
   "source": [
    "def calculate_position_unit(account, N_value, U_data):\n",
    "    position_unit = round((0.01 * account) / (N_value * 100 * U_data))\n",
    "    print(\"position_unit is\", position_unit)\n",
    "    return position_unit\n"
   ]
  },
  {
   "cell_type": "code",
   "execution_count": 148,
   "metadata": {},
   "outputs": [],
   "source": [
    "def calculate_market_in_and_out_price_with_long(data, period_in, period_out):\n",
    "    return {\"In_val\": data[:period_in]['high'].max(), \"Out_val\": data[:period_out]['low'].min()}"
   ]
  },
  {
   "cell_type": "code",
   "execution_count": null,
   "metadata": {},
   "outputs": [],
   "source": [
    "   "
   ]
  },
  {
   "cell_type": "code",
   "execution_count": 158,
   "metadata": {},
   "outputs": [
    {
     "name": "stdout",
     "output_type": "stream",
     "text": [
      "N is 0.4484610527281235\n",
      "position_unit is 1.0\n"
     ]
    },
    {
     "data": {
      "text/plain": [
       "{'In_val': 12.73, 'Out_val': 11.9}"
      ]
     },
     "execution_count": 158,
     "metadata": {},
     "output_type": "execute_result"
    }
   ],
   "source": [
    "data = pro.daily(ts_code=\"002236.SZ\")\n",
    "N_data = data[['high', 'low', 'pre_close']]\n",
    "N_value = get_N_value(N_data, 100)\n",
    "\n",
    "U_data = data.iloc[0]['close']\n",
    "calculate_position_unit(50000, N_value, U_data)\n",
    "\n",
    "BT_data = data[['high', 'low']]\n",
    "calculate_market_in_and_out_price_with_long(BT_data, 20, 10)"
   ]
  }
 ],
 "metadata": {
  "kernelspec": {
   "display_name": "Python 3",
   "language": "python",
   "name": "python3"
  },
  "language_info": {
   "codemirror_mode": {
    "name": "ipython",
    "version": 3
   },
   "file_extension": ".py",
   "mimetype": "text/x-python",
   "name": "python",
   "nbconvert_exporter": "python",
   "pygments_lexer": "ipython3",
   "version": "3.7.0"
  }
 },
 "nbformat": 4,
 "nbformat_minor": 2
}
